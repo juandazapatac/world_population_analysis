{
 "cells": [
  {
   "cell_type": "code",
   "execution_count": 1,
   "metadata": {},
   "outputs": [
    {
     "name": "stdout",
     "output_type": "stream",
     "text": [
      "    Rank CCA3  Country/Territory           Capital Continent 2022 Population  \\\n",
      "0     36  AFG        Afghanistan             Kabul      Asia        41128771   \n",
      "1    138  ALB            Albania            Tirana    Europe         2842321   \n",
      "2     34  DZA            Algeria           Algiers    Africa        44903225   \n",
      "3    213  ASM     American Samoa         Pago Pago   Oceania           44273   \n",
      "4    203  AND            Andorra  Andorra la Vella    Europe           79824   \n",
      "..   ...  ...                ...               ...       ...             ...   \n",
      "229  226  WLF  Wallis and Futuna          Mata-Utu   Oceania           11572   \n",
      "230  172  ESH     Western Sahara          El Aaiún    Africa          575986   \n",
      "231   46  YEM              Yemen             Sanaa      Asia        33696614   \n",
      "232   63  ZMB             Zambia            Lusaka    Africa        20017675   \n",
      "233   74  ZWE           Zimbabwe            Harare    Africa        16320537   \n",
      "\n",
      "    2020 Population 2015 Population 2010 Population 2000 Population  \\\n",
      "0          38972230        33753499        28189672        19542982   \n",
      "1           2866849         2882481         2913399         3182021   \n",
      "2          43451666        39543154        35856344        30774621   \n",
      "3             46189           51368           54849           58230   \n",
      "4             77700           71746           71519           66097   \n",
      "..              ...             ...             ...             ...   \n",
      "229           11655           12182           13142           14723   \n",
      "230          556048          491824          413296          270375   \n",
      "231        32284046        28516545        24743946        18628700   \n",
      "232        18927715        16248230        13792086         9891136   \n",
      "233        15669666        14154937        12839771        11834676   \n",
      "\n",
      "    1990 Population 1980 Population 1970 Population Area (km²)  \\\n",
      "0          10694796        12486631        10752971     652230   \n",
      "1           3295066         2941651         2324731      28748   \n",
      "2          25518074        18739378        13795915    2381741   \n",
      "3             47818           32886           27075        199   \n",
      "4             53569           35611           19860        468   \n",
      "..              ...             ...             ...        ...   \n",
      "229           13454           11315            9377        142   \n",
      "230          178529          116775           76371     266000   \n",
      "231        13375121         9204938         6843607     527968   \n",
      "232         7686401         5720438         4281671     752612   \n",
      "233        10113893         7049926         5202918     390757   \n",
      "\n",
      "    Density (per km²) Growth Rate World Population Percentage  \n",
      "0             63.0587      1.0257                        0.52  \n",
      "1             98.8702      0.9957                        0.04  \n",
      "2             18.8531      1.0164                        0.56  \n",
      "3            222.4774      0.9831                           0  \n",
      "4            170.5641        1.01                           0  \n",
      "..                ...         ...                         ...  \n",
      "229            81.493      0.9953                           0  \n",
      "230            2.1654      1.0184                        0.01  \n",
      "231           63.8232      1.0217                        0.42  \n",
      "232           26.5976       1.028                        0.25  \n",
      "233           41.7665      1.0204                         0.2  \n",
      "\n",
      "[234 rows x 17 columns]\n"
     ]
    }
   ],
   "source": [
    "from population_functions import df"
   ]
  },
  {
   "cell_type": "code",
   "execution_count": null,
   "metadata": {},
   "outputs": [],
   "source": [
    "df"
   ]
  }
 ],
 "metadata": {
  "kernelspec": {
   "display_name": "pydata-book",
   "language": "python",
   "name": "python3"
  },
  "language_info": {
   "codemirror_mode": {
    "name": "ipython",
    "version": 3
   },
   "file_extension": ".py",
   "mimetype": "text/x-python",
   "name": "python",
   "nbconvert_exporter": "python",
   "pygments_lexer": "ipython3",
   "version": "3.10.12"
  },
  "orig_nbformat": 4
 },
 "nbformat": 4,
 "nbformat_minor": 2
}
